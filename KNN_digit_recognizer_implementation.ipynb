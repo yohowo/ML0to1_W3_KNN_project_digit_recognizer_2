{
 "cells": [
  {
   "cell_type": "code",
   "execution_count": 1,
   "metadata": {
    "collapsed": true
   },
   "outputs": [],
   "source": [
    "import numpy as np\n",
    "import pandas as pd #read .csv file\n",
    "import matplotlib.pyplot as plt #drawing"
   ]
  },
  {
   "cell_type": "code",
   "execution_count": 7,
   "metadata": {},
   "outputs": [
    {
     "name": "stdout",
     "output_type": "stream",
     "text": [
      "(42000, 785)\n",
      "(28000, 784)\n"
     ]
    }
   ],
   "source": [
    "def load_data(train_row):\n",
    "    train = pd.read_csv(\"train.csv\")\n",
    "    print(train.shape)\n",
    "    x_train = train.values[0:train_row, 1:] #get column 1~784\n",
    "    y_train = train.values[0:train_row, 0] #get column0: label\n",
    "    \n",
    "    predict_test = pd.read_csv(\"test.csv\").values\n",
    "    print (predict_test.shape)\n",
    "    return x_train, y_train, predict_test\n",
    "\n",
    "train_row = 5000\n",
    "origin_x_train, origin_y_train, origin_y_test = load_data(train_row)\n",
    "    "
   ]
  },
  {
   "cell_type": "code",
   "execution_count": 8,
   "metadata": {},
   "outputs": [
    {
     "name": "stdout",
     "output_type": "stream",
     "text": [
      "(5000, 784) (5000,) (28000, 784)\n"
     ]
    }
   ],
   "source": [
    "print(origin_x_train.shape, origin_y_train.shape, origin_y_test.shape)"
   ]
  },
  {
   "cell_type": "code",
   "execution_count": 13,
   "metadata": {},
   "outputs": [
    {
     "name": "stdout",
     "output_type": "stream",
     "text": [
      "['0', '1', '2', '3', '4', '5', '6', '7', '8', '9']\n"
     ]
    },
    {
     "data": {
      "image/png": "[encoded data removed]",
      "text/plain": [
       "<matplotlib.figure.Figure at 0x114a19320>"
      ]
     },
     "metadata": {},
     "output_type": "display_data"
    }
   ],
   "source": [
    "#show part of the digit\n",
    "classes = [\"0\", \"1\", \"2\", \"3\", \"4\", \"5\", \"6\", \"7\", \"8\", \"9\"]\n",
    "rows = 4\n",
    "\n",
    "print(classes)\n",
    "for y, cls in enumerate(classes):\n",
    "    idxs = np.nonzero([i == y for i in origin_y_train])\n",
    "    idxs = np.random.choice(idxs[0], rows)\n",
    "    for i , idx in enumerate(idxs):\n",
    "        plt_idx = i * len(classes) + y + 1\n",
    "        plt.subplot(rows, len(classes), plt_idx)\n",
    "        plt.imshow(origin_x_train[idx].reshape((28, 28)))\n",
    "        plt.axis(\"off\")\n",
    "        if i == 0:\n",
    "            plt.title(cls)\n",
    "        \n",
    "plt.show()"
   ]
  },
  {
   "cell_type": "code",
   "execution_count": 17,
   "metadata": {},
   "outputs": [
    {
     "name": "stdout",
     "output_type": "stream",
     "text": [
      "(4000, 784) (1000, 784) (4000,) (1000,)\n"
     ]
    }
   ],
   "source": [
    "#test split\n",
    "from sklearn.model_selection import train_test_split\n",
    "x_train, x_test, y_train, y_test = train_test_split(origin_x_train,\n",
    "                                                    origin_y_train,\n",
    "                                                    test_size = 0.2,\n",
    "                                                    random_state = 0)\n",
    "\n",
    "print(x_train.shape, x_test.shape, y_train.shape, y_test.shape)"
   ]
  },
  {
   "cell_type": "code",
   "execution_count": 34,
   "metadata": {},
   "outputs": [
    {
     "name": "stdout",
     "output_type": "stream",
     "text": [
      "[[1 2 3 1 2 3]\n",
      " [1 2 3 1 2 3]\n",
      " [1 2 3 1 2 3]\n",
      " [1 2 3 1 2 3]\n",
      " [1 2 3 1 2 3]]\n",
      "[[6 5 4 6 5 4]\n",
      " [6 5 4 6 5 4]\n",
      " [6 5 4 6 5 4]\n",
      " [6 5 4 6 5 4]\n",
      " [6 5 4 6 5 4]]\n",
      "[[5 3 1 5 3 1]\n",
      " [5 3 1 5 3 1]\n",
      " [5 3 1 5 3 1]\n",
      " [5 3 1 5 3 1]\n",
      " [5 3 1 5 3 1]]\n",
      "[[25  9  1 25  9  1]\n",
      " [25  9  1 25  9  1]\n",
      " [25  9  1 25  9  1]\n",
      " [25  9  1 25  9  1]\n",
      " [25  9  1 25  9  1]]\n",
      "[125  45   5 125  45   5]\n",
      "[70 70 70 70 70]\n",
      "[ 8.36660027  8.36660027  8.36660027  8.36660027  8.36660027]\n"
     ]
    }
   ],
   "source": [
    "#demo np.tile for finding distance\n",
    "a = [1, 2, 3]\n",
    "b = np.tile(a, (5, 2))\n",
    "print(b)\n",
    "\n",
    "\n",
    "a_bar = [6, 5, 4]\n",
    "b_bar = np.tile(a_bar, (5, 2))\n",
    "print(b_bar)\n",
    "\n",
    "diff = b_bar - b\n",
    "print(diff)\n",
    "\n",
    "sqDiff = diff ** 2\n",
    "print(sqDiff)\n",
    "\n",
    "# sqrtDiff = sqDiff ** 0.5\n",
    "# print(sqrtDiff)\n",
    "\n",
    "sum = sqDiff.sum(axis = 0)\n",
    "print(sum)\n",
    "\n",
    "sum = sqDiff.sum(axis = 1)\n",
    "print(sum)\n",
    "\n",
    "dis = sum ** 0.5\n",
    "print(dis)"
   ]
  },
  {
   "cell_type": "code",
   "execution_count": 53,
   "metadata": {
    "collapsed": true
   },
   "outputs": [],
   "source": [
    "from sklearn.metrics import accuracy_score\n",
    "\n",
    "class KNN():\n",
    "    def __init__(self):\n",
    "        pass\n",
    "    \n",
    "    def fit(self, x, y): #train\n",
    "        self.x_train = x\n",
    "        self.y_train = y\n",
    "        \n",
    "    def predict(self, x, k = 3):\n",
    "        dataSet = self.x_train\n",
    "        labels = self.y_train\n",
    "        \n",
    "        \n",
    "        #calculate the distance between current data and x_train \n",
    "        #then get the sqrt(sum of distance^2)\n",
    "        dataSetSize = dataSet.shape[0]\n",
    "        diffMatrix = np.tile(x, (dataSetSize, 1)) - dataSet#expand x to the size of x_train; then subtract one by one\n",
    "        sqrtDiffMatrix = diffMatrix ** 2\n",
    "        sumDiffMatrix = sqrtDiffMatrix.sum(axis = 1)\n",
    "        distances = sumDiffMatrix ** 0.5\n",
    "        \n",
    "        #sort to find k nearest\n",
    "        sortDistances = distances.argsort() #numpy sort\n",
    "        \n",
    "        classCount = {}\n",
    "        \n",
    "        for i in range(k):\n",
    "            vote = labels[sortDistances[i]]\n",
    "            classCount[vote] = classCount.get(vote, 0) + 1;\n",
    "            \n",
    "        max = 0\n",
    "        ans = 0\n",
    "        \n",
    "        for k, v in classCount.items():\n",
    "            if(v > max): \n",
    "                ans = k\n",
    "                max = v\n",
    "        \n",
    "        return ans\n",
    "            "
   ]
  },
  {
   "cell_type": "code",
   "execution_count": 54,
   "metadata": {},
   "outputs": [
    {
     "name": "stdout",
     "output_type": "stream",
     "text": [
      "K = 1, start training\n",
      "Computing 1/1000...\n",
      "Computing 501/1000...\n",
      "When k = 1  accuracy = 0.919\n",
      "K = 2, start training\n",
      "Computing 1/1000...\n",
      "Computing 501/1000...\n",
      "When k = 2  accuracy = 0.919\n",
      "K = 3, start training\n",
      "Computing 1/1000...\n",
      "Computing 501/1000...\n",
      "When k = 3  accuracy = 0.925\n"
     ]
    }
   ],
   "source": [
    "knn = KNN()\n",
    "knn.fit(x_train, y_train)\n",
    "\n",
    "for k in range (1,4):\n",
    "    print('K = ' + str(k) + ', start training')\n",
    "    predictions = np.zeros(len(y_test))\n",
    "    \n",
    "    for i in range(x_test.shape[0]):\n",
    "        if i % 500 == 0:\n",
    "            print (\"Computing \" + str(i + 1) + \"/\" + str(int(len(x_test))) + \"...\")\n",
    "        \n",
    "        output = knn.predict(x_test[i], k)\n",
    "        predictions[i] = output\n",
    "    \n",
    "    #handle accuricy\n",
    "    accuracy = accuracy_score(y_test, predictions)\n",
    "    print('When k = ' + str(k), ' accuracy = ' + str(accuracy))"
   ]
  },
  {
   "cell_type": "code",
   "execution_count": null,
   "metadata": {},
   "outputs": [],
   "source": [
    "print(y_test)\n",
    "print(predictions)"
   ]
  },
  {
   "cell_type": "code",
   "execution_count": null,
   "metadata": {},
   "outputs": [
    {
     "name": "stdout",
     "output_type": "stream",
     "text": [
      "Computing  1/28000...\n",
      "Computing  501/28000...\n",
      "Computing  1001/28000...\n",
      "Computing  1501/28000...\n",
      "Computing  2001/28000...\n",
      "Computing  2501/28000...\n",
      "Computing  3001/28000...\n",
      "Computing  3501/28000...\n",
      "Computing  4001/28000...\n",
      "Computing  4501/28000...\n",
      "Computing  5001/28000...\n",
      "Computing  5501/28000...\n",
      "Computing  6001/28000...\n",
      "Computing  6501/28000...\n",
      "Computing  7001/28000...\n",
      "Computing  7501/28000...\n",
      "Computing  8001/28000...\n",
      "Computing  8501/28000...\n",
      "Computing  9001/28000...\n",
      "Computing  9501/28000...\n",
      "Computing  10001/28000...\n",
      "Computing  10501/28000...\n",
      "Computing  11001/28000...\n",
      "Computing  11501/28000...\n",
      "Computing  12001/28000...\n",
      "Computing  12501/28000...\n",
      "Computing  13001/28000...\n",
      "Computing  13501/28000...\n",
      "Computing  14001/28000...\n",
      "Computing  14501/28000...\n",
      "Computing  15001/28000...\n",
      "Computing  15501/28000...\n",
      "Computing  16001/28000...\n",
      "Computing  16501/28000...\n",
      "Computing  17001/28000...\n",
      "Computing  17501/28000...\n",
      "Computing  18001/28000...\n",
      "Computing  18501/28000...\n",
      "Computing  19001/28000...\n",
      "Computing  19501/28000...\n",
      "Computing  20001/28000...\n",
      "Computing  20501/28000...\n",
      "Computing  21001/28000...\n",
      "Computing  21501/28000...\n",
      "Computing  22001/28000...\n",
      "Computing  22501/28000...\n",
      "Computing  23001/28000...\n",
      "Computing  23501/28000...\n",
      "Computing  24001/28000...\n",
      "Computing  24501/28000...\n",
      "Computing  25001/28000...\n",
      "Computing  25501/28000...\n",
      "Computing  26001/28000...\n",
      "Computing  26501/28000...\n",
      "Computing  27001/28000...\n",
      "Computing  27501/28000...\n"
     ]
    }
   ],
   "source": [
    "#test\n",
    "k = 3\n",
    "predictions = np.zeros(origin_y_test.shape[0])\n",
    "for i in range(origin_y_test.shape[0]):\n",
    "    if i % 500 ==0:\n",
    "        print(\"Computing  \" + str(i+1) + \"/\" + str(int(len(origin_y_test))) + \"...\")\n",
    "    predictions[i] = knn.predict(origin_y_test[i], k)"
   ]
  },
  {
   "cell_type": "code",
   "execution_count": null,
   "metadata": {},
   "outputs": [],
   "source": [
    "print(len(predictions))\n",
    "out_file = open(\"predicitons.csv\", \"w\")\n",
    "out_file.write(\"ImageId,Label\\n\")\n",
    "for i in range(len(predictions)):\n",
    "    out_file.write(str(i+1) + \",\" + str(int(predictions[i])) + \"\\n\")\n",
    "out_file.close()\n"
   ]
  },
  {
   "cell_type": "code",
   "execution_count": null,
   "metadata": {
    "collapsed": true
   },
   "outputs": [],
   "source": []
  }
 ],
 "metadata": {
  "kernelspec": {
   "display_name": "Python 3",
   "language": "python",
   "name": "python3"
  },
  "language_info": {
   "codemirror_mode": {
    "name": "ipython",
    "version": 3
   },
   "file_extension": ".py",
   "mimetype": "text/x-python",
   "name": "python",
   "nbconvert_exporter": "python",
   "pygments_lexer": "ipython3",
   "version": "3.6.3"
  }
 },
 "nbformat": 4,
 "nbformat_minor": 2
}
